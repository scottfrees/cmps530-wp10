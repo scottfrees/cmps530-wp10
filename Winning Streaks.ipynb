{
 "cells": [
  {
   "cell_type": "markdown",
   "metadata": {},
   "source": [
    "# Winning streaks in MLB\n",
    "\n",
    "## Defining a winning streak\n",
    "A winning streak is a consecutive set of games won within a regular season.\n",
    "- Winning streaks that started in one season, and extended/continued during the following year's season should not be considered.\n",
    "- Do not permit tie games to extend a win streak - a win streak of 10 games means the team won 10 games in a row - no ties or losses.\n",
    "- Exclude winning streaks of less than 7 games from your histogram - they are too common to be useful in our analysis.\n",
    "- If there is a win streak of 10 games, it should be included in the 7, 8, 9, and 10 win streak bins."
   ]
  },
  {
   "cell_type": "code",
   "execution_count": 1,
   "metadata": {},
   "outputs": [
    {
     "name": "stdout",
     "output_type": "stream",
     "text": [
      "Requirement already satisfied: matplotlib in /home/sfrees/.local/lib/python3.7/site-packages (3.3.0)\r\n",
      "Requirement already satisfied: cycler>=0.10 in /home/sfrees/.local/lib/python3.7/site-packages (from matplotlib) (0.10.0)\r\n",
      "Requirement already satisfied: pillow>=6.2.0 in /home/sfrees/.local/lib/python3.7/site-packages (from matplotlib) (7.2.0)\r\n",
      "Requirement already satisfied: python-dateutil>=2.1 in /home/sfrees/anaconda3/lib/python3.7/site-packages (from matplotlib) (2.8.0)\r\n",
      "Requirement already satisfied: numpy>=1.15 in /home/sfrees/anaconda3/lib/python3.7/site-packages (from matplotlib) (1.17.2)\r\n",
      "Requirement already satisfied: kiwisolver>=1.0.1 in /home/sfrees/.local/lib/python3.7/site-packages (from matplotlib) (1.2.0)\r\n",
      "Requirement already satisfied: pyparsing!=2.0.4,!=2.1.2,!=2.1.6,>=2.0.3 in /home/sfrees/.local/lib/python3.7/site-packages (from matplotlib) (2.4.7)\r\n",
      "Requirement already satisfied: six in /home/sfrees/anaconda3/lib/python3.7/site-packages (from cycler>=0.10->matplotlib) (1.12.0)\r\n"
     ]
    }
   ],
   "source": [
    "from collections import namedtuple\n",
    "from operator import attrgetter\n",
    "import numpy as np\n",
    "import pandas as pd\n",
    "import matplotlib.pyplot as plt\n",
    "\n",
    "import sys  \n",
    "!{sys.executable} -m pip install --user matplotlib\n",
    "\n",
    "Streak = namedtuple(\"Streak\", \"year team winpctg length\")\n",
    "\n",
    "win_pct_instances = []\n",
    "def load(year):\n",
    "    \"\"\"Builds and returns a Games tuple with a prepared pandas df and teams list\n",
    "\n",
    "    Parameters\n",
    "    -----------\n",
    "    year:   Year to load\n",
    "    \"\"\"\n",
    "    filename = \"data/GL\" + str(year) + \".TXT\"\n",
    "    data = pd.read_csv(filename, header=None)\n",
    "    data.rename(\n",
    "        columns={0: \"Date\", 3: \"Away\", 6: \"Home\", 9: \"VisitingRuns\", 10: \"HomeRuns\"},\n",
    "        inplace=True,\n",
    "    )\n",
    "    teams = data.Home.unique()\n",
    "    return (data, teams, year)"
   ]
  },
  {
   "cell_type": "code",
   "execution_count": 2,
   "metadata": {},
   "outputs": [],
   "source": [
    "def calculate_streaks(team, year, df):\n",
    "    team_games = df[(df.Home == team) | (df.Away == team)]\n",
    "\n",
    "    def outcome(x):\n",
    "        if x.Home == team and x.HomeRuns > x.VisitingRuns:\n",
    "            return 1\n",
    "        elif x.Away == team and x.HomeRuns < x.VisitingRuns:\n",
    "            return 1\n",
    "        return 0\n",
    "\n",
    "    team_games[\"outcomes\"] = team_games.apply(outcome, axis=1)\n",
    "    winpct = round(team_games.outcomes.sum() / len(team_games.outcomes), 3)\n",
    "    win_pct_instances.append(winpct)\n",
    "    current = 0\n",
    "    streaks = []\n",
    "    for g in team_games.outcomes.tolist():\n",
    "        if g == 0:\n",
    "            # loss, end of streak...\n",
    "            if current >= 7:\n",
    "                streaks.append(current)\n",
    "            current = 0\n",
    "        else:\n",
    "            current = current + 1\n",
    "\n",
    "    # won last game of season, see if it's a streak\n",
    "    if current > 7:\n",
    "        streaks.append(current)\n",
    "\n",
    "    return [Streak(year, team, winpct, s) for s in streaks]\n",
    "    # print(team, len(team_games))\n",
    "    # print(team_games.Date.tolist())\n",
    "    print(team, year)"
   ]
  },
  {
   "cell_type": "code",
   "execution_count": 3,
   "metadata": {},
   "outputs": [
    {
     "name": "stderr",
     "output_type": "stream",
     "text": [
      "/home/sfrees/anaconda3/lib/python3.7/site-packages/ipykernel_launcher.py:11: SettingWithCopyWarning: \n",
      "A value is trying to be set on a copy of a slice from a DataFrame.\n",
      "Try using .loc[row_indexer,col_indexer] = value instead\n",
      "\n",
      "See the caveats in the documentation: http://pandas.pydata.org/pandas-docs/stable/user_guide/indexing.html#returning-a-view-versus-a-copy\n",
      "  # This is added back by InteractiveShellApp.init_path()\n"
     ]
    },
    {
     "name": "stdout",
     "output_type": "stream",
     "text": [
      "CLE 2017 0.63 22\n",
      "OAK 2002 0.636 20\n",
      "KCA 1977 0.63 16\n",
      "MIN 1991 0.586 15\n",
      "ATL 2000 0.586 15\n",
      "SEA 2001 0.716 15\n",
      "SFN 1965 0.583 14\n",
      "BAL 1973 0.599 14\n",
      "OAK 1988 0.642 14\n",
      "TEX 1991 0.525 14\n",
      "KCA 1994 0.557 14\n",
      "SDN 1999 0.457 14\n",
      "ATL 2013 0.593 14\n",
      "CLE 2016 0.584 14\n",
      "LAN 1962 0.618 13\n",
      "LAN 1965 0.599 13\n",
      "PHI 1977 0.623 13\n",
      "BAL 1978 0.559 13\n",
      "ATL 1982 0.549 13\n",
      "MIL 1987 0.562 13\n"
     ]
    }
   ],
   "source": [
    "all_streaks = []\n",
    "for year in range(1962, 2019):\n",
    "    games = load(year)\n",
    "    for team in games[1]:\n",
    "        streaks = calculate_streaks(team, year, games[0])\n",
    "        all_streaks.extend(streaks)\n",
    "        #print(year, team)\n",
    "\n",
    "all_streaks = sorted(all_streaks, key=attrgetter(\"length\"), reverse=True)\n",
    "for streak in all_streaks[:20]:\n",
    "    print(streak.team, streak.year, streak.winpctg, streak.length)\n"
   ]
  },
  {
   "cell_type": "code",
   "execution_count": 4,
   "metadata": {},
   "outputs": [
    {
     "name": "stdout",
     "output_type": "stream",
     "text": [
      "[7, 8, 9, 10, 11, 12, 13, 14, 15, 16, 20, 22]\n"
     ]
    }
   ],
   "source": [
    "streak_lengths = list(set([streak.length for streak in all_streaks]))\n",
    "print(streak_lengths)"
   ]
  },
  {
   "cell_type": "code",
   "execution_count": 5,
   "metadata": {},
   "outputs": [
    {
     "name": "stdout",
     "output_type": "stream",
     "text": [
      "[(7, 1133, 0.55, [0.63, 0.636, 0.63, 0.586, 0.586, 0.716, 0.583, 0.599, 0.642, 0.525, 0.557, 0.457, 0.593, 0.584, 0.618, 0.599, 0.623, 0.559, 0.549, 0.562, 0.481, 0.605, 0.481, 0.574, 0.552, 0.578, 0.568, 0.478, 0.568, 0.549, 0.597, 0.599, 0.543, 0.519, 0.435, 0.568, 0.531, 0.593, 0.586, 0.574, 0.636, 0.604, 0.506, 0.628, 0.617, 0.667, 0.469, 0.519, 0.599, 0.639, 0.532, 0.602, 0.593, 0.547, 0.587, 0.5, 0.481, 0.552, 0.602, 0.59, 0.667, 0.414, 0.593, 0.562, 0.463, 0.593, 0.5, 0.451, 0.54, 0.605, 0.546, 0.63, 0.574, 0.556, 0.543, 0.593, 0.552, 0.586, 0.568, 0.543, 0.556, 0.599, 0.457, 0.574, 0.574, 0.556, 0.574, 0.636, 0.642, 0.623, 0.509, 0.578, 0.624, 0.565, 0.574, 0.401, 0.586, 0.531, 0.537, 0.606, 0.5, 0.568, 0.549, 0.506, 0.574, 0.617, 0.5, 0.5, 0.457, 0.562, 0.667, 0.594, 0.398, 0.531, 0.568, 0.63, 0.574, 0.547, 0.568, 0.519, 0.503, 0.543, 0.59, 0.594, 0.571, 0.617, 0.564, 0.556, 0.577, 0.537, 0.5, 0.475, 0.515, 0.549, 0.537, 0.531, 0.543, 0.478, 0.593, 0.525, 0.494, 0.584, 0.619, 0.528, 0.481, 0.519, 0.475, 0.552, 0.704, 0.636, 0.589, 0.562, 0.574, 0.611, 0.574, 0.457, 0.593, 0.42, 0.525, 0.447, 0.605, 0.562, 0.586, 0.5, 0.574, 0.5, 0.54, 0.531, 0.549, 0.574, 0.463, 0.512, 0.599, 0.586, 0.593, 0.568, 0.568, 0.605, 0.549, 0.593, 0.531, 0.642, 0.481, 0.667, 0.605, 0.605, 0.593, 0.531, 0.574, 0.543, 0.564, 0.605, 0.63, 0.58, 0.586, 0.628, 0.599, 0.491, 0.546, 0.617, 0.389, 0.556, 0.556, 0.599, 0.639, 0.556, 0.617, 0.549, 0.519, 0.619, 0.619, 0.58, 0.506, 0.475, 0.562, 0.63, 0.667, 0.358, 0.466, 0.54, 0.556, 0.441, 0.607, 0.642, 0.642, 0.601, 0.519, 0.515, 0.636, 0.55, 0.551, 0.555, 0.519, 0.494, 0.494, 0.642, 0.642, 0.512, 0.605, 0.605, 0.615, 0.586, 0.531, 0.568, 0.46, 0.512, 0.525, 0.562, 0.605, 0.401, 0.556, 0.593, 0.605, 0.605, 0.642, 0.586, 0.577, 0.478, 0.625, 0.59, 0.694, 0.494, 0.519, 0.556, 0.512, 0.484, 0.488, 0.654, 0.543, 0.525, 0.704, 0.704, 0.586, 0.586, 0.58, 0.565, 0.525, 0.599, 0.59, 0.716, 0.531, 0.556, 0.63, 0.568, 0.568, 0.574, 0.574, 0.383, 0.512, 0.621, 0.574, 0.648, 0.568, 0.512, 0.568, 0.568, 0.574, 0.488, 0.556, 0.506, 0.525, 0.543, 0.481, 0.481, 0.58, 0.602, 0.522, 0.636, 0.543, 0.562, 0.494, 0.63, 0.58, 0.556, 0.58, 0.525, 0.593, 0.457, 0.58, 0.531, 0.475, 0.506, 0.512, 0.488, 0.599, 0.5, 0.642, 0.494, 0.63, 0.475, 0.617, 0.667, 0.488, 0.565, 0.537, 0.607, 0.482, 0.543, 0.574, 0.58, 0.583, 0.549, 0.509, 0.521, 0.586, 0.462, 0.475, 0.475, 0.472, 0.627, 0.555, 0.506, 0.506, 0.562, 0.531, 0.673, 0.5, 0.543, 0.537, 0.494, 0.599, 0.63, 0.667, 0.549, 0.488, 0.488, 0.549, 0.438, 0.6, 0.549, 0.494, 0.475, 0.525, 0.5, 0.63, 0.543, 0.491, 0.605, 0.562, 0.519, 0.543, 0.469, 0.525, 0.617, 0.5, 0.605, 0.593, 0.5, 0.623, 0.63, 0.63, 0.556, 0.549, 0.568, 0.426, 0.457, 0.559, 0.607, 0.607, 0.607, 0.451, 0.488, 0.559, 0.556, 0.488, 0.512, 0.546, 0.599, 0.599, 0.571, 0.448, 0.512, 0.617, 0.636, 0.494, 0.611, 0.562, 0.573, 0.543, 0.549, 0.556, 0.568, 0.549, 0.531, 0.512, 0.512, 0.583, 0.537, 0.605, 0.558, 0.611, 0.519, 0.537, 0.537, 0.46, 0.556, 0.497, 0.562, 0.457, 0.586, 0.615, 0.451, 0.667, 0.484, 0.463, 0.562, 0.435, 0.54, 0.497, 0.562, 0.625, 0.537, 0.512, 0.5, 0.429, 0.58, 0.475, 0.512, 0.58, 0.537, 0.593, 0.525, 0.525, 0.469, 0.584, 0.619, 0.619, 0.478, 0.434, 0.649, 0.447, 0.469, 0.538, 0.469, 0.507, 0.528, 0.543, 0.512, 0.512, 0.543, 0.525, 0.568, 0.543, 0.63, 0.63, 0.605, 0.704, 0.704, 0.636, 0.589, 0.599, 0.531, 0.599, 0.519, 0.426, 0.562, 0.599, 0.54, 0.586, 0.59, 0.716, 0.611, 0.611, 0.636, 0.636, 0.605, 0.599, 0.512, 0.444, 0.586, 0.623, 0.531, 0.438, 0.525, 0.62, 0.62, 0.481, 0.574, 0.648, 0.562, 0.562, 0.623, 0.549, 0.549, 0.457, 0.611, 0.611, 0.611, 0.586, 0.586, 0.506, 0.586, 0.543, 0.438, 0.556, 0.494, 0.599, 0.549, 0.586, 0.593, 0.593, 0.543, 0.543, 0.438, 0.556, 0.556, 0.593, 0.519, 0.519, 0.549, 0.556, 0.556, 0.506, 0.534, 0.534, 0.546, 0.599, 0.568, 0.586, 0.364, 0.636, 0.488, 0.488, 0.58, 0.599, 0.556, 0.531, 0.586, 0.497, 0.599, 0.494, 0.531, 0.389, 0.469, 0.549, 0.556, 0.574, 0.605, 0.463, 0.593, 0.564, 0.558, 0.457, 0.568, 0.438, 0.481, 0.556, 0.549, 0.599, 0.42, 0.512, 0.556, 0.605, 0.605, 0.519, 0.617, 0.537, 0.537, 0.534, 0.531, 0.537, 0.636, 0.512, 0.574, 0.562, 0.549, 0.556, 0.556, 0.589, 0.589, 0.617, 0.543, 0.667, 0.558, 0.593, 0.618, 0.618, 0.578, 0.578, 0.578, 0.624, 0.624, 0.515, 0.515, 0.531, 0.346, 0.531, 0.537, 0.488, 0.488, 0.646, 0.646, 0.515, 0.515, 0.58, 0.58, 0.607, 0.607, 0.521, 0.604, 0.595, 0.63, 0.552, 0.58, 0.494, 0.494, 0.521, 0.512, 0.606, 0.606, 0.41, 0.537, 0.494, 0.472, 0.522, 0.537, 0.537, 0.426, 0.627, 0.568, 0.555, 0.558, 0.558, 0.562, 0.562, 0.509, 0.469, 0.599, 0.599, 0.531, 0.469, 0.491, 0.673, 0.673, 0.673, 0.556, 0.556, 0.543, 0.564, 0.564, 0.564, 0.617, 0.525, 0.599, 0.432, 0.469, 0.54, 0.549, 0.667, 0.605, 0.549, 0.537, 0.512, 0.525, 0.469, 0.562, 0.562, 0.512, 0.627, 0.627, 0.627, 0.552, 0.556, 0.545, 0.617, 0.617, 0.617, 0.532, 0.481, 0.481, 0.548, 0.548, 0.565, 0.619, 0.611, 0.611, 0.478, 0.509, 0.494, 0.543, 0.543, 0.543, 0.586, 0.586, 0.586, 0.488, 0.601, 0.491, 0.63, 0.63, 0.438, 0.667, 0.503, 0.605, 0.506, 0.463, 0.566, 0.531, 0.497, 0.63, 0.63, 0.543, 0.543, 0.531, 0.494, 0.512, 0.556, 0.61, 0.543, 0.602, 0.602, 0.602, 0.617, 0.605, 0.593, 0.58, 0.463, 0.441, 0.547, 0.549, 0.537, 0.537, 0.537, 0.568, 0.613, 0.607, 0.586, 0.586, 0.586, 0.569, 0.642, 0.642, 0.549, 0.528, 0.528, 0.515, 0.594, 0.594, 0.531, 0.512, 0.448, 0.512, 0.503, 0.564, 0.466, 0.636, 0.556, 0.611, 0.373, 0.573, 0.556, 0.577, 0.577, 0.42, 0.543, 0.549, 0.556, 0.574, 0.537, 0.432, 0.488, 0.438, 0.543, 0.562, 0.432, 0.457, 0.642, 0.642, 0.546, 0.556, 0.463, 0.562, 0.549, 0.512, 0.623, 0.623, 0.623, 0.602, 0.602, 0.615, 0.444, 0.451, 0.469, 0.537, 0.447, 0.593, 0.491, 0.515, 0.534, 0.568, 0.528, 0.667, 0.667, 0.593, 0.469, 0.556, 0.525, 0.568, 0.475, 0.494, 0.494, 0.401, 0.549, 0.522, 0.642, 0.58, 0.463, 0.463, 0.469, 0.625, 0.537, 0.537, 0.611, 0.562, 0.574, 0.364, 0.391, 0.568, 0.543, 0.543, 0.494, 0.636, 0.512, 0.562, 0.488, 0.525, 0.586, 0.525, 0.525, 0.519, 0.525, 0.605, 0.519, 0.519, 0.58, 0.519, 0.441, 0.537, 0.549, 0.549, 0.568, 0.593, 0.556, 0.593, 0.605, 0.444, 0.475, 0.42, 0.451, 0.586, 0.586, 0.426, 0.636, 0.636, 0.494, 0.525, 0.577, 0.47, 0.469, 0.469, 0.509, 0.593, 0.593, 0.596, 0.597, 0.538, 0.486, 0.451, 0.545, 0.625, 0.625, 0.469, 0.545, 0.479, 0.694, 0.694, 0.552, 0.552, 0.593, 0.494, 0.494, 0.506, 0.435, 0.435, 0.5, 0.5, 0.512, 0.525, 0.494, 0.457, 0.543, 0.519, 0.605, 0.623, 0.623, 0.497, 0.497, 0.512, 0.488, 0.488, 0.401, 0.654, 0.63, 0.475, 0.423, 0.423, 0.568, 0.568, 0.481, 0.589, 0.395, 0.395, 0.484, 0.531, 0.605, 0.605, 0.605, 0.519, 0.617, 0.617, 0.58, 0.586, 0.438, 0.525, 0.562, 0.599, 0.716, 0.407, 0.543, 0.63, 0.63, 0.605, 0.627, 0.481, 0.466, 0.519, 0.512, 0.64, 0.64, 0.497, 0.586, 0.586, 0.5, 0.562, 0.525, 0.593, 0.593, 0.537, 0.537, 0.438, 0.531, 0.621, 0.62, 0.62, 0.586, 0.469, 0.648, 0.512, 0.414, 0.562, 0.611, 0.475, 0.546, 0.488, 0.586, 0.574, 0.543, 0.543, 0.5, 0.543, 0.543, 0.599, 0.599, 0.586, 0.586, 0.488, 0.516, 0.469, 0.552, 0.543, 0.58, 0.546, 0.525, 0.366, 0.602, 0.522, 0.568, 0.5, 0.549, 0.549, 0.617, 0.546, 0.546, 0.586, 0.463, 0.599, 0.574, 0.481, 0.537, 0.599, 0.537, 0.586, 0.488, 0.531, 0.531, 0.494, 0.528, 0.528, 0.463, 0.463, 0.586, 0.432, 0.519, 0.636, 0.636, 0.636, 0.636, 0.543, 0.556, 0.562, 0.469, 0.593, 0.593, 0.5, 0.426, 0.586, 0.438, 0.599, 0.438, 0.451, 0.63, 0.494, 0.593, 0.58, 0.58, 0.531, 0.556, 0.586, 0.58, 0.426, 0.556, 0.574, 0.5, 0.586, 0.463, 0.58, 0.58, 0.531, 0.564, 0.558, 0.599, 0.481, 0.469, 0.556, 0.414, 0.432, 0.438, 0.586, 0.537, 0.568, 0.525, 0.525, 0.469, 0.543, 0.556, 0.556, 0.605, 0.481, 0.549, 0.549, 0.549, 0.586, 0.586, 0.422, 0.519, 0.491, 0.586, 0.549, 0.519, 0.574, 0.599, 0.463, 0.623, 0.463, 0.537, 0.568, 0.414, 0.414, 0.494, 0.636, 0.558, 0.562, 0.583]), (8, 614, 0.555, [0.63, 0.636, 0.63, 0.586, 0.586, 0.716, 0.583, 0.599, 0.642, 0.525, 0.557, 0.457, 0.593, 0.584, 0.618, 0.599, 0.623, 0.559, 0.549, 0.562, 0.481, 0.605, 0.481, 0.574, 0.552, 0.578, 0.568, 0.478, 0.568, 0.549, 0.597, 0.599, 0.543, 0.519, 0.435, 0.568, 0.531, 0.593, 0.586, 0.574, 0.636, 0.604, 0.506, 0.628, 0.617, 0.667, 0.469, 0.519, 0.599, 0.639, 0.532, 0.602, 0.593, 0.547, 0.587, 0.5, 0.481, 0.552, 0.602, 0.59, 0.667, 0.414, 0.593, 0.562, 0.463, 0.593, 0.5, 0.451, 0.54, 0.605, 0.546, 0.63, 0.574, 0.556, 0.543, 0.593, 0.552, 0.586, 0.568, 0.543, 0.556, 0.599, 0.457, 0.574, 0.574, 0.556, 0.574, 0.636, 0.642, 0.623, 0.509, 0.578, 0.624, 0.565, 0.574, 0.401, 0.586, 0.531, 0.537, 0.606, 0.5, 0.568, 0.549, 0.506, 0.574, 0.617, 0.5, 0.5, 0.457, 0.562, 0.667, 0.594, 0.398, 0.531, 0.568, 0.63, 0.574, 0.547, 0.568, 0.519, 0.503, 0.543, 0.59, 0.594, 0.571, 0.617, 0.564, 0.556, 0.577, 0.537, 0.5, 0.475, 0.515, 0.549, 0.537, 0.531, 0.543, 0.478, 0.593, 0.525, 0.494, 0.584, 0.619, 0.528, 0.481, 0.519, 0.475, 0.552, 0.704, 0.636, 0.589, 0.562, 0.574, 0.611, 0.574, 0.457, 0.593, 0.42, 0.525, 0.447, 0.605, 0.562, 0.586, 0.5, 0.574, 0.5, 0.54, 0.531, 0.549, 0.574, 0.463, 0.512, 0.599, 0.586, 0.593, 0.568, 0.568, 0.605, 0.549, 0.593, 0.531, 0.642, 0.481, 0.667, 0.605, 0.605, 0.593, 0.531, 0.574, 0.543, 0.564, 0.605, 0.63, 0.58, 0.586, 0.628, 0.599, 0.491, 0.546, 0.617, 0.389, 0.556, 0.556, 0.599, 0.639, 0.556, 0.617, 0.549, 0.519, 0.619, 0.619, 0.58, 0.506, 0.475, 0.562, 0.63, 0.667, 0.358, 0.466, 0.54, 0.556, 0.441, 0.607, 0.642, 0.642, 0.601, 0.519, 0.515, 0.636, 0.55, 0.551, 0.555, 0.519, 0.494, 0.494, 0.642, 0.642, 0.512, 0.605, 0.605, 0.615, 0.586, 0.531, 0.568, 0.46, 0.512, 0.525, 0.562, 0.605, 0.401, 0.556, 0.593, 0.605, 0.605, 0.642, 0.586, 0.577, 0.478, 0.625, 0.59, 0.694, 0.494, 0.519, 0.556, 0.512, 0.484, 0.488, 0.654, 0.543, 0.525, 0.704, 0.704, 0.586, 0.586, 0.58, 0.565, 0.525, 0.599, 0.59, 0.716, 0.531, 0.556, 0.63, 0.568, 0.568, 0.574, 0.574, 0.383, 0.512, 0.621, 0.574, 0.648, 0.568, 0.512, 0.568, 0.568, 0.574, 0.488, 0.556, 0.506, 0.525, 0.543, 0.481, 0.481, 0.58, 0.602, 0.522, 0.636, 0.543, 0.562, 0.494, 0.63, 0.58, 0.556, 0.58, 0.525, 0.593, 0.457, 0.58, 0.531, 0.475, 0.506, 0.512, 0.488, 0.599, 0.5, 0.642, 0.494, 0.63, 0.475, 0.617, 0.667, 0.488, 0.565, 0.537, 0.607, 0.482, 0.543, 0.574, 0.58, 0.583, 0.549, 0.509, 0.521, 0.586, 0.462, 0.475, 0.475, 0.472, 0.627, 0.555, 0.506, 0.506, 0.562, 0.531, 0.673, 0.5, 0.543, 0.537, 0.494, 0.599, 0.63, 0.667, 0.549, 0.488, 0.488, 0.549, 0.438, 0.6, 0.549, 0.494, 0.475, 0.525, 0.5, 0.63, 0.543, 0.491, 0.605, 0.562, 0.519, 0.543, 0.469, 0.525, 0.617, 0.5, 0.605, 0.593, 0.5, 0.623, 0.63, 0.63, 0.556, 0.549, 0.568, 0.426, 0.457, 0.559, 0.607, 0.607, 0.607, 0.451, 0.488, 0.559, 0.556, 0.488, 0.512, 0.546, 0.599, 0.599, 0.571, 0.448, 0.512, 0.617, 0.636, 0.494, 0.611, 0.562, 0.573, 0.543, 0.549, 0.556, 0.568, 0.549, 0.531, 0.512, 0.512, 0.583, 0.537, 0.605, 0.558, 0.611, 0.519, 0.537, 0.537, 0.46, 0.556, 0.497, 0.562, 0.457, 0.586, 0.615, 0.451, 0.667, 0.484, 0.463, 0.562, 0.435, 0.54, 0.497, 0.562, 0.625, 0.537, 0.512, 0.5, 0.429, 0.58, 0.475, 0.512, 0.58, 0.537, 0.593, 0.525, 0.525, 0.469, 0.584, 0.619, 0.619, 0.478, 0.434, 0.649, 0.447, 0.469, 0.538, 0.469, 0.507, 0.528, 0.543, 0.512, 0.512, 0.543, 0.525, 0.568, 0.543, 0.63, 0.63, 0.605, 0.704, 0.704, 0.636, 0.589, 0.599, 0.531, 0.599, 0.519, 0.426, 0.562, 0.599, 0.54, 0.586, 0.59, 0.716, 0.611, 0.611, 0.636, 0.636, 0.605, 0.599, 0.512, 0.444, 0.586, 0.623, 0.531, 0.438, 0.525, 0.62, 0.62, 0.481, 0.574, 0.648, 0.562, 0.562, 0.623, 0.549, 0.549, 0.457, 0.611, 0.611, 0.611, 0.586, 0.586, 0.506, 0.586, 0.543, 0.438, 0.556, 0.494, 0.599, 0.549, 0.586, 0.593, 0.593, 0.543, 0.543, 0.438, 0.556, 0.556, 0.593, 0.519, 0.519, 0.549, 0.556, 0.556, 0.506, 0.534, 0.534, 0.546, 0.599, 0.568, 0.586, 0.364, 0.636, 0.488, 0.488, 0.58, 0.599, 0.556, 0.531, 0.586, 0.497, 0.599, 0.494, 0.531, 0.389, 0.469, 0.549, 0.556, 0.574, 0.605, 0.463, 0.593, 0.564, 0.558, 0.457, 0.568, 0.438, 0.481, 0.556, 0.549, 0.599, 0.42, 0.512, 0.556, 0.605, 0.605, 0.519, 0.617, 0.537, 0.537, 0.534, 0.531, 0.537, 0.636, 0.512, 0.574, 0.562, 0.549, 0.556, 0.556, 0.589, 0.589, 0.617, 0.543, 0.667, 0.558]), (9, 332, 0.56, [0.63, 0.636, 0.63, 0.586, 0.586, 0.716, 0.583, 0.599, 0.642, 0.525, 0.557, 0.457, 0.593, 0.584, 0.618, 0.599, 0.623, 0.559, 0.549, 0.562, 0.481, 0.605, 0.481, 0.574, 0.552, 0.578, 0.568, 0.478, 0.568, 0.549, 0.597, 0.599, 0.543, 0.519, 0.435, 0.568, 0.531, 0.593, 0.586, 0.574, 0.636, 0.604, 0.506, 0.628, 0.617, 0.667, 0.469, 0.519, 0.599, 0.639, 0.532, 0.602, 0.593, 0.547, 0.587, 0.5, 0.481, 0.552, 0.602, 0.59, 0.667, 0.414, 0.593, 0.562, 0.463, 0.593, 0.5, 0.451, 0.54, 0.605, 0.546, 0.63, 0.574, 0.556, 0.543, 0.593, 0.552, 0.586, 0.568, 0.543, 0.556, 0.599, 0.457, 0.574, 0.574, 0.556, 0.574, 0.636, 0.642, 0.623, 0.509, 0.578, 0.624, 0.565, 0.574, 0.401, 0.586, 0.531, 0.537, 0.606, 0.5, 0.568, 0.549, 0.506, 0.574, 0.617, 0.5, 0.5, 0.457, 0.562, 0.667, 0.594, 0.398, 0.531, 0.568, 0.63, 0.574, 0.547, 0.568, 0.519, 0.503, 0.543, 0.59, 0.594, 0.571, 0.617, 0.564, 0.556, 0.577, 0.537, 0.5, 0.475, 0.515, 0.549, 0.537, 0.531, 0.543, 0.478, 0.593, 0.525, 0.494, 0.584, 0.619, 0.528, 0.481, 0.519, 0.475, 0.552, 0.704, 0.636, 0.589, 0.562, 0.574, 0.611, 0.574, 0.457, 0.593, 0.42, 0.525, 0.447, 0.605, 0.562, 0.586, 0.5, 0.574, 0.5, 0.54, 0.531, 0.549, 0.574, 0.463, 0.512, 0.599, 0.586, 0.593, 0.568, 0.568, 0.605, 0.549, 0.593, 0.531, 0.642, 0.481, 0.667, 0.605, 0.605, 0.593, 0.531, 0.574, 0.543, 0.564, 0.605, 0.63, 0.58, 0.586, 0.628, 0.599, 0.491, 0.546, 0.617, 0.389, 0.556, 0.556, 0.599, 0.639, 0.556, 0.617, 0.549, 0.519, 0.619, 0.619, 0.58, 0.506, 0.475, 0.562, 0.63, 0.667, 0.358, 0.466, 0.54, 0.556, 0.441, 0.607, 0.642, 0.642, 0.601, 0.519, 0.515, 0.636, 0.55, 0.551, 0.555, 0.519, 0.494, 0.494, 0.642, 0.642, 0.512, 0.605, 0.605, 0.615, 0.586, 0.531, 0.568, 0.46, 0.512, 0.525, 0.562, 0.605, 0.401, 0.556, 0.593, 0.605, 0.605, 0.642, 0.586, 0.577, 0.478, 0.625, 0.59, 0.694, 0.494, 0.519, 0.556, 0.512, 0.484, 0.488, 0.654, 0.543, 0.525, 0.704, 0.704, 0.586, 0.586, 0.58, 0.565, 0.525, 0.599, 0.59, 0.716, 0.531, 0.556, 0.63, 0.568, 0.568, 0.574, 0.574, 0.383, 0.512, 0.621, 0.574, 0.648, 0.568, 0.512, 0.568, 0.568, 0.574, 0.488, 0.556, 0.506, 0.525, 0.543, 0.481, 0.481, 0.58, 0.602, 0.522, 0.636, 0.543, 0.562, 0.494, 0.63, 0.58, 0.556, 0.58, 0.525, 0.593, 0.457, 0.58, 0.531, 0.475, 0.506, 0.512, 0.488, 0.599, 0.5, 0.642, 0.494, 0.63, 0.475, 0.617, 0.667]), (10, 184, 0.559, [0.63, 0.636, 0.63, 0.586, 0.586, 0.716, 0.583, 0.599, 0.642, 0.525, 0.557, 0.457, 0.593, 0.584, 0.618, 0.599, 0.623, 0.559, 0.549, 0.562, 0.481, 0.605, 0.481, 0.574, 0.552, 0.578, 0.568, 0.478, 0.568, 0.549, 0.597, 0.599, 0.543, 0.519, 0.435, 0.568, 0.531, 0.593, 0.586, 0.574, 0.636, 0.604, 0.506, 0.628, 0.617, 0.667, 0.469, 0.519, 0.599, 0.639, 0.532, 0.602, 0.593, 0.547, 0.587, 0.5, 0.481, 0.552, 0.602, 0.59, 0.667, 0.414, 0.593, 0.562, 0.463, 0.593, 0.5, 0.451, 0.54, 0.605, 0.546, 0.63, 0.574, 0.556, 0.543, 0.593, 0.552, 0.586, 0.568, 0.543, 0.556, 0.599, 0.457, 0.574, 0.574, 0.556, 0.574, 0.636, 0.642, 0.623, 0.509, 0.578, 0.624, 0.565, 0.574, 0.401, 0.586, 0.531, 0.537, 0.606, 0.5, 0.568, 0.549, 0.506, 0.574, 0.617, 0.5, 0.5, 0.457, 0.562, 0.667, 0.594, 0.398, 0.531, 0.568, 0.63, 0.574, 0.547, 0.568, 0.519, 0.503, 0.543, 0.59, 0.594, 0.571, 0.617, 0.564, 0.556, 0.577, 0.537, 0.5, 0.475, 0.515, 0.549, 0.537, 0.531, 0.543, 0.478, 0.593, 0.525, 0.494, 0.584, 0.619, 0.528, 0.481, 0.519, 0.475, 0.552, 0.704, 0.636, 0.589, 0.562, 0.574, 0.611, 0.574, 0.457, 0.593, 0.42, 0.525, 0.447, 0.605, 0.562, 0.586, 0.5, 0.574, 0.5, 0.54, 0.531, 0.549, 0.574, 0.463, 0.512, 0.599, 0.586, 0.593, 0.568, 0.568, 0.605, 0.549, 0.593, 0.531, 0.642, 0.481, 0.667]), (11, 91, 0.568, [0.63, 0.636, 0.63, 0.586, 0.586, 0.716, 0.583, 0.599, 0.642, 0.525, 0.557, 0.457, 0.593, 0.584, 0.618, 0.599, 0.623, 0.559, 0.549, 0.562, 0.481, 0.605, 0.481, 0.574, 0.552, 0.578, 0.568, 0.478, 0.568, 0.549, 0.597, 0.599, 0.543, 0.519, 0.435, 0.568, 0.531, 0.593, 0.586, 0.574, 0.636, 0.604, 0.506, 0.628, 0.617, 0.667, 0.469, 0.519, 0.599, 0.639, 0.532, 0.602, 0.593, 0.547, 0.587, 0.5, 0.481, 0.552, 0.602, 0.59, 0.667, 0.414, 0.593, 0.562, 0.463, 0.593, 0.5, 0.451, 0.54, 0.605, 0.546, 0.63, 0.574, 0.556, 0.543, 0.593, 0.552, 0.586, 0.568, 0.543, 0.556, 0.599, 0.457, 0.574, 0.574, 0.556, 0.574, 0.636, 0.642, 0.623, 0.509]), (12, 41, 0.572, [0.63, 0.636, 0.63, 0.586, 0.586, 0.716, 0.583, 0.599, 0.642, 0.525, 0.557, 0.457, 0.593, 0.584, 0.618, 0.599, 0.623, 0.559, 0.549, 0.562, 0.481, 0.605, 0.481, 0.574, 0.552, 0.578, 0.568, 0.478, 0.568, 0.549, 0.597, 0.599, 0.543, 0.519, 0.435, 0.568, 0.531, 0.593, 0.586, 0.574, 0.636]), (13, 24, 0.582, [0.63, 0.636, 0.63, 0.586, 0.586, 0.716, 0.583, 0.599, 0.642, 0.525, 0.557, 0.457, 0.593, 0.584, 0.618, 0.599, 0.623, 0.559, 0.549, 0.562, 0.481, 0.605, 0.481, 0.574]), (14, 14, 0.595, [0.63, 0.636, 0.63, 0.586, 0.586, 0.716, 0.583, 0.599, 0.642, 0.525, 0.557, 0.457, 0.593, 0.584]), (15, 6, 0.631, [0.63, 0.636, 0.63, 0.586, 0.586, 0.716]), (16, 3, 0.632, [0.63, 0.636, 0.63]), (20, 2, 0.633, [0.63, 0.636]), (22, 1, 0.63, [0.63])]\n"
     ]
    }
   ],
   "source": [
    "wp_streaks = []\n",
    "for length in streak_lengths:\n",
    "    pcts = [streak.winpctg for streak in all_streaks if streak.length >= length]\n",
    "    wp_streaks.append((length, len(pcts), round(sum(pcts) / len(pcts), 3), pcts))\n",
    "\n",
    "print(wp_streaks)"
   ]
  },
  {
   "cell_type": "code",
   "execution_count": 6,
   "metadata": {},
   "outputs": [
    {
     "data": {
      "text/plain": [
       "1518"
      ]
     },
     "execution_count": 6,
     "metadata": {},
     "output_type": "execute_result"
    }
   ],
   "source": [
    "team_seasons = len(win_pct_instances)\n",
    "team_seasons"
   ]
  },
  {
   "cell_type": "code",
   "execution_count": 7,
   "metadata": {},
   "outputs": [],
   "source": [
    "s = np.random.normal(0.500, .060, team_seasons)"
   ]
  },
  {
   "cell_type": "code",
   "execution_count": 8,
   "metadata": {},
   "outputs": [
    {
     "data": {
      "text/plain": [
       "1518"
      ]
     },
     "execution_count": 8,
     "metadata": {},
     "output_type": "execute_result"
    }
   ],
   "source": [
    "len(s)"
   ]
  },
  {
   "cell_type": "code",
   "execution_count": 9,
   "metadata": {},
   "outputs": [
    {
     "data": {
      "text/plain": [
       "array([0.55827743, 0.5187637 , 0.56123495, ..., 0.58604901, 0.48988369,\n",
       "       0.47947509])"
      ]
     },
     "execution_count": 9,
     "metadata": {},
     "output_type": "execute_result"
    }
   ],
   "source": [
    "s"
   ]
  },
  {
   "cell_type": "code",
   "execution_count": 10,
   "metadata": {},
   "outputs": [
    {
     "data": {
      "text/plain": [
       "0.4991948218479559"
      ]
     },
     "execution_count": 10,
     "metadata": {},
     "output_type": "execute_result"
    }
   ],
   "source": [
    "np.mean(s)"
   ]
  },
  {
   "cell_type": "code",
   "execution_count": 11,
   "metadata": {},
   "outputs": [
    {
     "data": {
      "text/plain": [
       "0.2884247812940678"
      ]
     },
     "execution_count": 11,
     "metadata": {},
     "output_type": "execute_result"
    }
   ],
   "source": [
    "min(s)"
   ]
  },
  {
   "cell_type": "code",
   "execution_count": 12,
   "metadata": {},
   "outputs": [
    {
     "data": {
      "text/plain": [
       "0.0016815298660990338"
      ]
     },
     "execution_count": 12,
     "metadata": {},
     "output_type": "execute_result"
    }
   ],
   "source": [
    "p = [p**10 for p in s]\n",
    "np.mean(p)"
   ]
  },
  {
   "cell_type": "code",
   "execution_count": 26,
   "metadata": {},
   "outputs": [
    {
     "name": "stdout",
     "output_type": "stream",
     "text": [
      "[1183, 646, 357, 200, 113, 64, 37, 22, 13, 7, 1, 0]\n",
      "[1133, 614, 332, 184, 91, 41, 24, 14, 6, 3, 2, 1]\n",
      "12\n",
      "12\n"
     ]
    },
    {
     "data": {
      "image/png": "[encoded data removed]",
      "text/plain": [
       "<Figure size 432x288 with 1 Axes>"
      ]
     },
     "metadata": {
      "needs_background": "light"
     },
     "output_type": "display_data"
    }
   ],
   "source": [
    "observed = [s[1]  for s in wp_streaks]\n",
    "expected = []\n",
    "for k in streak_lengths:\n",
    "    stks = [wp**k*((162-k)*(1-wp)+1) for wp in win_pct_instances]  # use s for sample\n",
    "    expected.append(int(round(sum(stks), 0)))\n",
    "\n",
    "print(expected)\n",
    "print(observed)\n",
    "observed = [s[1] for s in wp_streaks]\n",
    "\n",
    "barWidth = 1\n",
    "\n",
    "print(len(observed))\n",
    "print(len(expected))\n",
    "\n",
    "sk = 0\n",
    "r1 = np.arange(len(observed[sk:]))\n",
    "r2 = [x + barWidth for x in r1]\n",
    "plt.bar(streak_lengths, observed[sk:], color='#7f6d5f', width=barWidth, edgecolor='white', label='observed')\n",
    "plt.bar([s+1 for s in streak_lengths], expected[sk:], color='#557f2d', width=barWidth, edgecolor='white', label='expected')\n",
    "\n",
    "\n",
    "plt.show()"
   ]
  },
  {
   "cell_type": "code",
   "execution_count": null,
   "metadata": {},
   "outputs": [],
   "source": [
    "win_pct_instances"
   ]
  },
  {
   "cell_type": "code",
   "execution_count": null,
   "metadata": {},
   "outputs": [],
   "source": [
    "expected = []\n",
    "for k in streak_lengths:\n",
    "    stks = [wp**k*((162-k)*(1-wp)+1) for wp in win_pct_instances]\n",
    "    expected.append(int(round(sum(stks), 0)))\n",
    "\n",
    "print(expected)\n",
    "print(observed)\n",
    "observed = [s[1] for s in wp_streaks]\n",
    "\n",
    "barWidth = 0.5\n",
    "\n",
    "print(len(observed))\n",
    "print(len(expected))\n",
    "\n",
    "sk = 0\n",
    "r1 = np.arange(len(observed[sk:]))\n",
    "r2 = [x + barWidth for x in r1]\n",
    "plt.bar(r1, observed[sk:], color='#7f6d5f', width=barWidth, edgecolor='white', label='observed')\n",
    "plt.bar(r2, expected[sk:], color='#557f2d', width=barWidth, edgecolor='white', label='expected')\n",
    "\n",
    "\n",
    "plt.show()"
   ]
  },
  {
   "cell_type": "code",
   "execution_count": null,
   "metadata": {
    "scrolled": true
   },
   "outputs": [],
   "source": [
    "import statistics\n",
    "for s in wp_streaks:\n",
    "    print(s[0], np.mean(s[3]), statistics.stdev(s[3]))"
   ]
  },
  {
   "cell_type": "code",
   "execution_count": null,
   "metadata": {},
   "outputs": [],
   "source": []
  }
 ],
 "metadata": {
  "kernelspec": {
   "display_name": "Python 3",
   "language": "python",
   "name": "python3"
  },
  "language_info": {
   "codemirror_mode": {
    "name": "ipython",
    "version": 3
   },
   "file_extension": ".py",
   "mimetype": "text/x-python",
   "name": "python",
   "nbconvert_exporter": "python",
   "pygments_lexer": "ipython3",
   "version": "3.7.4"
  }
 },
 "nbformat": 4,
 "nbformat_minor": 4
}
